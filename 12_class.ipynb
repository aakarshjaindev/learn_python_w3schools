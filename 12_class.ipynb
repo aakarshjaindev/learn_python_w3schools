{
 "cells": [
  {
   "cell_type": "code",
   "execution_count": 2,
   "id": "b5f0070f",
   "metadata": {},
   "outputs": [
    {
     "name": "stdout",
     "output_type": "stream",
     "text": [
      "5\n",
      "John\n",
      "36\n",
      "John(36)\n",
      "Hello my name is John\n",
      "Hello my name is John\n",
      "40\n"
     ]
    }
   ],
   "source": [
    "# Python Classes and Objects\n",
    "\n",
    "# Create a Class\n",
    "class MyClass:\n",
    "    x = 5\n",
    "\n",
    "# Create Object\n",
    "p1 = MyClass()\n",
    "print(p1.x)\n",
    "\n",
    "# The __init__() Function\n",
    "class Person:\n",
    "    def __init__(self, name, age):\n",
    "        self.name = name\n",
    "        self.age = age\n",
    "\n",
    "p1 = Person(\"John\", 36)\n",
    "print(p1.name)\n",
    "print(p1.age)\n",
    "\n",
    "# The __str__() Function\n",
    "class Person:\n",
    "    def __init__(self, name, age):\n",
    "        self.name = name\n",
    "        self.age = age\n",
    "\n",
    "    def __str__(self):\n",
    "        return f\"{self.name}({self.age})\"\n",
    "\n",
    "p1 = Person(\"John\", 36)\n",
    "print(p1)\n",
    "\n",
    "# Object Methods\n",
    "class Person:\n",
    "    def __init__(self, name, age):\n",
    "        self.name = name\n",
    "        self.age = age\n",
    "\n",
    "    def myfunc(self):\n",
    "        print(\"Hello my name is \" + self.name)\n",
    "\n",
    "p1 = Person(\"John\", 36)\n",
    "p1.myfunc()\n",
    "\n",
    "# The self Parameter (using different names)\n",
    "class Person:\n",
    "    def __init__(mysillyobject, name, age):\n",
    "        mysillyobject.name = name\n",
    "        mysillyobject.age = age\n",
    "\n",
    "    def myfunc(abc):\n",
    "        print(\"Hello my name is \" + abc.name)\n",
    "\n",
    "p1 = Person(\"John\", 36)\n",
    "p1.myfunc()\n",
    "\n",
    "# Modify Object Properties\n",
    "p1.age = 40\n",
    "print(p1.age)\n",
    "\n",
    "# Delete Object Properties\n",
    "del p1.age\n",
    "\n",
    "# Delete Objects\n",
    "del p1\n",
    "\n",
    "# The pass Statement\n",
    "class Person:\n",
    "    pass"
   ]
  },
  {
   "cell_type": "markdown",
   "id": "3fb13271",
   "metadata": {},
   "source": []
  }
 ],
 "metadata": {
  "kernelspec": {
   "display_name": "Python 3",
   "language": "python",
   "name": "python3"
  },
  "language_info": {
   "codemirror_mode": {
    "name": "ipython",
    "version": 3
   },
   "file_extension": ".py",
   "mimetype": "text/x-python",
   "name": "python",
   "nbconvert_exporter": "python",
   "pygments_lexer": "ipython3",
   "version": "3.12.1"
  }
 },
 "nbformat": 4,
 "nbformat_minor": 5
}
