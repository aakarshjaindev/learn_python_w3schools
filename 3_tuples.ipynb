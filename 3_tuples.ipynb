{
 "cells": [
  {
   "cell_type": "code",
   "execution_count": 2,
   "id": "577ba408-ce74-445d-a2ae-55631e1cf3ff",
   "metadata": {},
   "outputs": [],
   "source": [
    "# python tuples \n",
    "mytyple = ('a', 'b', 'c', 'd') \n",
    "\n"
   ]
  },
  {
   "cell_type": "code",
   "execution_count": 3,
   "id": "6dfd0034-e3a1-49f3-b6bf-8c37989b1b7f",
   "metadata": {},
   "outputs": [
    {
     "name": "stdout",
     "output_type": "stream",
     "text": [
      "('a', 'b', 'c', 'd')\n"
     ]
    }
   ],
   "source": [
    "print(mytyple)"
   ]
  },
  {
   "cell_type": "code",
   "execution_count": 4,
   "id": "fface8cd-3e8a-41bc-a06b-ec4d9d939d32",
   "metadata": {},
   "outputs": [],
   "source": [
    "# oridered, unchangeable , indexed, duplicates, "
   ]
  },
  {
   "cell_type": "code",
   "execution_count": 5,
   "id": "540993e8-017a-454d-8591-5e561e71a7f3",
   "metadata": {},
   "outputs": [],
   "source": [
    "# add comma after the item if you want only one item"
   ]
  },
  {
   "cell_type": "code",
   "execution_count": 6,
   "id": "4e1092ab-4598-489a-8cf4-92cb841aa2d3",
   "metadata": {},
   "outputs": [],
   "source": [
    "tuple1 = (\"apple\", \"banana\", \"cherry\")\n",
    "tuple2 = (1, 5, 7, 9, 3)\n",
    "tuple3 = (True, False, False)\n"
   ]
  },
  {
   "cell_type": "code",
   "execution_count": 7,
   "id": "198874d0-228e-4da6-b7fb-6064900630e7",
   "metadata": {},
   "outputs": [],
   "source": [
    "# unpacking a tuple "
   ]
  },
  {
   "cell_type": "code",
   "execution_count": 9,
   "id": "08ca474d-a796-499c-acf0-f9226da8848f",
   "metadata": {},
   "outputs": [
    {
     "name": "stdout",
     "output_type": "stream",
     "text": [
      "apple\n",
      "banana\n",
      "cherry\n"
     ]
    }
   ],
   "source": [
    "fruits = (\"apple\", \"banana\", \"cherry\")\n",
    "\n",
    "(green, yellow, red) = fruits\n",
    "\n",
    "print(green)\n",
    "print(yellow)\n",
    "print(red)"
   ]
  },
  {
   "cell_type": "code",
   "execution_count": 10,
   "id": "0afd9a03-5cc6-49e0-83f6-3ba9e527f73f",
   "metadata": {},
   "outputs": [],
   "source": [
    "# using asterisk "
   ]
  },
  {
   "cell_type": "code",
   "execution_count": 11,
   "id": "63d29770-8b8f-4a95-8ed5-f97a4080db4c",
   "metadata": {},
   "outputs": [
    {
     "ename": "SyntaxError",
     "evalue": "unterminated string literal (detected at line 1) (2634869861.py, line 1)",
     "output_type": "error",
     "traceback": [
      "  \u001b[36mCell\u001b[39m\u001b[36m \u001b[39m\u001b[32mIn[11]\u001b[39m\u001b[32m, line 1\u001b[39m\n\u001b[31m    \u001b[39m\u001b[31mfruits = ( 'apple', 'banan', cherry' , 'strawberry','raspberry')\u001b[39m\n                                                                  ^\n\u001b[31mSyntaxError\u001b[39m\u001b[31m:\u001b[39m unterminated string literal (detected at line 1)\n"
     ]
    }
   ],
   "source": [
    "fruits = ( 'apple', 'banan', cherry' , 'strawberry','raspberry')"
   ]
  },
  {
   "cell_type": "code",
   "execution_count": null,
   "id": "718ec268-3d70-414c-a6bf-ebf2a181695d",
   "metadata": {},
   "outputs": [],
   "source": [
    "# python loop tples \n",
    "\n",
    "# loop through a tuple \n",
    "# u can loop thorugh the tple items by using a for loop \n",
    "thistuple = ( ' apple', 'banana' , 'cherry ' ) \n",
    "for x in thistuple:\n",
    "    print(x)\n",
    "\n",
    "\n",
    "\n",
    "# loop thorugh the index nubers \n",
    "\n",
    "# u can als loop thorugh the thupleitems by referring totheir indexnumber \n",
    "\n",
    "for i in range(len(thistuple)):\n",
    "    print(thistuple[i])\n",
    "\n",
    "    "
   ]
  }
 ],
 "metadata": {
  "kernelspec": {
   "display_name": "Python 3 (ipykernel)",
   "language": "python",
   "name": "python3"
  },
  "language_info": {
   "codemirror_mode": {
    "name": "ipython",
    "version": 3
   },
   "file_extension": ".py",
   "mimetype": "text/x-python",
   "name": "python",
   "nbconvert_exporter": "python",
   "pygments_lexer": "ipython3",
   "version": "3.13.3"
  }
 },
 "nbformat": 4,
 "nbformat_minor": 5
}
