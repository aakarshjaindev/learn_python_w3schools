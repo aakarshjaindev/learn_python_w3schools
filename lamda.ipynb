{
 "cells": [
  {
   "cell_type": "code",
   "execution_count": null,
   "id": "a7ebbb7f",
   "metadata": {},
   "outputs": [],
   "source": [
    "print(\"hello, world\")"
   ]
  },
  {
   "cell_type": "code",
   "execution_count": null,
   "id": "61e936b2",
   "metadata": {},
   "outputs": [
    {
     "ename": "",
     "evalue": "",
     "output_type": "error",
     "traceback": [
      "\u001b[1;31mRunning cells with 'Python 3.13.3' requires the ipykernel package.\n",
      "\u001b[1;31m<a href='command:jupyter.createPythonEnvAndSelectController'>Create a Python Environment</a> with the required packages.\n",
      "\u001b[1;31mOr install 'ipykernel' using the command: 'c:/Users/Admin/AppData/Local/Programs/Python/Python313/python.exe -m pip install ipykernel -U --user --force-reinstall'"
     ]
    }
   ],
   "source": [
    "print(\"hello, world\")"
   ]
  },
  {
   "cell_type": "code",
   "execution_count": null,
   "id": "f80ab2d8",
   "metadata": {},
   "outputs": [
    {
     "ename": "",
     "evalue": "",
     "output_type": "error",
     "traceback": [
      "\u001b[1;31mRunning cells with 'Python 3.13.3' requires the ipykernel package.\n",
      "\u001b[1;31m<a href='command:jupyter.createPythonEnvAndSelectController'>Create a Python Environment</a> with the required packages.\n",
      "\u001b[1;31mOr install 'ipykernel' using the command: 'c:/Users/Admin/AppData/Local/Programs/Python/Python313/python.exe -m pip install ipykernel -U --user --force-reinstall'"
     ]
    }
   ],
   "source": [
    "print(\"he\")"
   ]
  },
  {
   "cell_type": "code",
   "execution_count": null,
   "id": "143e6043",
   "metadata": {},
   "outputs": [
    {
     "name": "stdout",
     "output_type": "stream",
     "text": [
      "15\n"
     ]
    }
   ],
   "source": [
    "x = lambda a : a  + 10\n",
    "print(x(5))"
   ]
  },
  {
   "cell_type": "markdown",
   "id": "58255243",
   "metadata": {},
   "source": [
    "#### lambda funcntion is a small anaonymouse function \n",
    "* a lambda function can take any nuymber of arguements , but can only have one experssion\n",
    "#### syntax \n"
   ]
  },
  {
   "cell_type": "code",
   "execution_count": null,
   "id": "b86b35e9",
   "metadata": {},
   "outputs": [
    {
     "name": "stdout",
     "output_type": "stream",
     "text": [
      "15\n"
     ]
    }
   ],
   "source": [
    "\n",
    "x = lambda a : a + 10 \n",
    "print(x(5))\n"
   ]
  },
  {
   "cell_type": "markdown",
   "id": "62de1fc0",
   "metadata": {},
   "source": [
    "lambda funcitons can take any number of arguements : \n",
    "a lambda function is a small anony mous function . \n",
    "a lambda funciton can take any nuymber of arguemetns, btu can only have one expresiion \n"
   ]
  },
  {
   "cell_type": "code",
   "execution_count": null,
   "id": "e709dd0c",
   "metadata": {},
   "outputs": [],
   "source": [
    "x = lambda a, b : a* b \n",
    "print(x(5,6))"
   ]
  },
  {
   "cell_type": "markdown",
   "id": "52a880b8",
   "metadata": {},
   "source": [
    "summarize arguemnets a, b  and c and return the result:"
   ]
  },
  {
   "cell_type": "code",
   "execution_count": null,
   "id": "67e7d169",
   "metadata": {},
   "outputs": [
    {
     "name": "stdout",
     "output_type": "stream",
     "text": [
      "13\n"
     ]
    }
   ],
   "source": [
    "x = lambda a, b , c : a + b + c \n",
    "print(x(5,6, 2))"
   ]
  },
  {
   "cell_type": "markdown",
   "id": "5d74b40b",
   "metadata": {},
   "source": [
    "> why use lambda functions ? \n",
    "* powerful used as a anonymous function "
   ]
  },
  {
   "cell_type": "code",
   "execution_count": null,
   "id": "613a2bad",
   "metadata": {},
   "outputs": [],
   "source": [
    "def myfunc(n): \n",
    "    return lambda a : a * n"
   ]
  },
  {
   "cell_type": "markdown",
   "id": "c44dae64",
   "metadata": {},
   "source": [
    "> using that function getting that double we always wanted "
   ]
  },
  {
   "cell_type": "code",
   "execution_count": null,
   "id": "720a6e81",
   "metadata": {},
   "outputs": [
    {
     "name": "stdout",
     "output_type": "stream",
     "text": [
      "22\n"
     ]
    }
   ],
   "source": [
    "def myfunc(n):\n",
    "    return lambda a :a * n l\n",
    "mydoubler = myfunc(2)\n",
    "\n",
    "print(mydoubler(11))"
   ]
  },
  {
   "cell_type": "code",
   "execution_count": null,
   "id": "b7a65120",
   "metadata": {},
   "outputs": [
    {
     "name": "stdout",
     "output_type": "stream",
     "text": [
      "33\n"
     ]
    }
   ],
   "source": [
    "def myfunc(n):\n",
    "  return lambda a : a * n\n",
    "\n",
    "mytripler = myfunc(3)\n",
    "\n",
    "print(mytripler(11))\n"
   ]
  },
  {
   "cell_type": "code",
   "execution_count": null,
   "id": "3c157d55",
   "metadata": {},
   "outputs": [],
   "source": []
  },
  {
   "cell_type": "markdown",
   "id": "523cedf2",
   "metadata": {},
   "source": []
  },
  {
   "cell_type": "code",
   "execution_count": 2,
   "id": "15549bff",
   "metadata": {},
   "outputs": [
    {
     "name": "stdout",
     "output_type": "stream",
     "text": [
      "hwqasldkfj\n"
     ]
    }
   ],
   "source": [
    "print(\"hwqasldkfj\")"
   ]
  },
  {
   "cell_type": "code",
   "execution_count": 1,
   "id": "1ec08223",
   "metadata": {},
   "outputs": [
    {
     "name": "stdout",
     "output_type": "stream",
     "text": [
      "hell\n"
     ]
    }
   ],
   "source": [
    "print(\"hell\")"
   ]
  },
  {
   "cell_type": "code",
   "execution_count": 3,
   "id": "7f7d81d2",
   "metadata": {},
   "outputs": [
    {
     "ename": "NameError",
     "evalue": "name 'x' is not defined",
     "output_type": "error",
     "traceback": [
      "\u001b[31m---------------------------------------------------------------------------\u001b[39m",
      "\u001b[31mNameError\u001b[39m                                 Traceback (most recent call last)",
      "\u001b[36mCell\u001b[39m\u001b[36m \u001b[39m\u001b[32mIn[3]\u001b[39m\u001b[32m, line 4\u001b[39m\n\u001b[32m      2\u001b[39m     X = \u001b[32m300\u001b[39m\n\u001b[32m      3\u001b[39m     \u001b[38;5;28mprint\u001b[39m(x)\n\u001b[32m----> \u001b[39m\u001b[32m4\u001b[39m \u001b[43mmyfunc\u001b[49m\u001b[43m(\u001b[49m\u001b[43m)\u001b[49m\n",
      "\u001b[36mCell\u001b[39m\u001b[36m \u001b[39m\u001b[32mIn[3]\u001b[39m\u001b[32m, line 3\u001b[39m, in \u001b[36mmyfunc\u001b[39m\u001b[34m()\u001b[39m\n\u001b[32m      1\u001b[39m \u001b[38;5;28;01mdef\u001b[39;00m\u001b[38;5;250m \u001b[39m\u001b[34mmyfunc\u001b[39m():\n\u001b[32m      2\u001b[39m     X = \u001b[32m300\u001b[39m\n\u001b[32m----> \u001b[39m\u001b[32m3\u001b[39m     \u001b[38;5;28mprint\u001b[39m(\u001b[43mx\u001b[49m)\n",
      "\u001b[31mNameError\u001b[39m: name 'x' is not defined"
     ]
    }
   ],
   "source": [
    "def myfunc():\n",
    "    X = 300\n",
    "    print(x)\n",
    "myfunc()"
   ]
  },
  {
   "cell_type": "code",
   "execution_count": 4,
   "id": "9e83e151",
   "metadata": {},
   "outputs": [],
   "source": [
    "import datetime dddd"
   ]
  },
  {
   "cell_type": "code",
   "execution_count": 5,
   "id": "a5684860",
   "metadata": {},
   "outputs": [
    {
     "name": "stdout",
     "output_type": "stream",
     "text": [
      "2025-05-30 04:59:21.102226\n"
     ]
    }
   ],
   "source": [
    "x = datetime.datetime.now()\n",
    "print(x)"
   ]
  },
  {
   "cell_type": "code",
   "execution_count": 6,
   "id": "9cf29260",
   "metadata": {},
   "outputs": [
    {
     "name": "stdout",
     "output_type": "stream",
     "text": [
      "2025\n"
     ]
    }
   ],
   "source": [
    "import datetime \n",
    "x = datetime.datetime.now()\n",
    "\n",
    "print(x.year)"
   ]
  },
  {
   "cell_type": "code",
   "execution_count": 10,
   "id": "e3c0bc8a",
   "metadata": {},
   "outputs": [
    {
     "name": "stdout",
     "output_type": "stream",
     "text": [
      "<built-in method strftime of datetime.datetime object at 0x000001D0F4803750>\n"
     ]
    }
   ],
   "source": [
    "import datetime\n",
    "print(x.strftime)"
   ]
  },
  {
   "cell_type": "code",
   "execution_count": null,
   "id": "c2065ed7",
   "metadata": {},
   "outputs": [
    {
     "name": "stdout",
     "output_type": "stream",
     "text": [
      "<built-in method today of type object at 0x00007FFD80C23270>\n"
     ]
    }
   ],
   "source": [
    "\n",
    "print(x.today)"
   ]
  },
  {
   "cell_type": "code",
   "execution_count": null,
   "id": "662e4482",
   "metadata": {},
   "outputs": [],
   "source": []
  }
 ],
 "metadata": {
  "kernelspec": {
   "display_name": "Python 3 (ipykernel)",
   "language": "python",
   "name": "python3"
  },
  "language_info": {
   "codemirror_mode": {
    "name": "ipython",
    "version": 3
   },
   "file_extension": ".py",
   "mimetype": "text/x-python",
   "name": "python",
   "nbconvert_exporter": "python",
   "pygments_lexer": "ipython3",
   "version": "3.13.3"
  }
 },
 "nbformat": 4,
 "nbformat_minor": 5
}
