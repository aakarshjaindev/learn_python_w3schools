{
 "cells": [
  {
   "cell_type": "code",
   "execution_count": 2,
   "id": "47f477dd",
   "metadata": {},
   "outputs": [
    {
     "name": "stdout",
     "output_type": "stream",
     "text": [
      "John Doe\n",
      "Mike Olsen\n",
      "Anna Smith\n",
      "Tom Brown\n",
      "Mike Olsen 2019\n",
      "Welcome Sara Lee to the class of 2025\n"
     ]
    }
   ],
   "source": [
    "# Python Inheritance\n",
    "\n",
    "# Parent class\n",
    "class Person:\n",
    "    def __init__(self, fname, lname):\n",
    "        self.firstname = fname\n",
    "        self.lastname = lname\n",
    "\n",
    "    def printname(self):\n",
    "        print(self.firstname, self.lastname)\n",
    "\n",
    "# Use the Person class to create an object\n",
    "x = Person(\"John\", \"Doe\")\n",
    "x.printname()\n",
    "\n",
    "# Child class inherits from Person\n",
    "class Student(Person):\n",
    "    pass\n",
    "\n",
    "# Use the Student class to create an object\n",
    "y = Student(\"Mike\", \"Olsen\")\n",
    "y.printname()\n",
    "\n",
    "# Add the __init__() function to the child class\n",
    "class Student(Person):\n",
    "    def __init__(self, fname, lname):\n",
    "        Person.__init__(self, fname, lname)\n",
    "\n",
    "z = Student(\"Anna\", \"Smith\")\n",
    "z.printname()\n",
    "\n",
    "# Using super() function\n",
    "class Student(Person):\n",
    "    def __init__(self, fname, lname):\n",
    "        super().__init__(fname, lname)\n",
    "\n",
    "a = Student(\"Tom\", \"Brown\")\n",
    "a.printname()\n",
    "\n",
    "# Add a property called graduationyear to the Student class\n",
    "class Student(Person):\n",
    "    def __init__(self, fname, lname, year):\n",
    "        super().__init__(fname, lname)\n",
    "        self.graduationyear = year\n",
    "\n",
    "b = Student(\"Mike\", \"Olsen\", 2019)\n",
    "print(b.firstname, b.lastname, b.graduationyear)\n",
    "\n",
    "# Add a method called welcome to the Student class\n",
    "class Student(Person):\n",
    "    def __init__(self, fname, lname, year):\n",
    "        super().__init__(fname, lname)\n",
    "        self.graduationyear = year\n",
    "\n",
    "    def welcome(self):\n",
    "        print(\"Welcome\", self.firstname, self.lastname, \"to the class of\", self.graduationyear)\n",
    "\n",
    "c = Student(\"Sara\", \"Lee\", 2025)\n",
    "c.welcome()"
   ]
  },
  {
   "cell_type": "code",
   "execution_count": null,
   "id": "9df7b4e0",
   "metadata": {},
   "outputs": [],
   "source": []
  }
 ],
 "metadata": {
  "kernelspec": {
   "display_name": "Python 3",
   "language": "python",
   "name": "python3"
  },
  "language_info": {
   "codemirror_mode": {
    "name": "ipython",
    "version": 3
   },
   "file_extension": ".py",
   "mimetype": "text/x-python",
   "name": "python",
   "nbconvert_exporter": "python",
   "pygments_lexer": "ipython3",
   "version": "3.12.1"
  }
 },
 "nbformat": 4,
 "nbformat_minor": 5
}
