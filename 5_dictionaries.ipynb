{
 "cells": [
  {
   "cell_type": "code",
   "execution_count": null,
   "id": "3e2148ea",
   "metadata": {},
   "outputs": [],
   "source": [
    "# Dictionaries store mappings from kehys to values \n"
   ]
  },
  {
   "cell_type": "code",
   "execution_count": 1,
   "id": "e05bd8ea",
   "metadata": {},
   "outputs": [],
   "source": [
    "empty_dict = {}\n",
    "# here is a  prefilled dictionary \n",
    "filled_dict = {\"one\": 1, \"two\": 2, \"three\": 3} "
   ]
  },
  {
   "cell_type": "code",
   "execution_count": 2,
   "id": "cf25ba13",
   "metadata": {},
   "outputs": [],
   "source": [
    "# keys are immutbale , foc quick look-ups using has vlaue \n",
    "# immutbal ektypes include ints , floats , sting , tuple s\n",
    "\n",
    "valid_dict = { (1, 2, 3, 4):[1, 2, 3, 4],   } # values can be of any type \n"
   ]
  },
  {
   "cell_type": "code",
   "execution_count": 4,
   "id": "aef1ba2a",
   "metadata": {},
   "outputs": [
    {
     "data": {
      "text/plain": [
       "1"
      ]
     },
     "execution_count": 4,
     "metadata": {},
     "output_type": "execute_result"
    }
   ],
   "source": [
    "# lok up values with []\n",
    "filled_dict[\"one\"] # returns 1"
   ]
  },
  {
   "cell_type": "code",
   "execution_count": 5,
   "id": "8d4b1565",
   "metadata": {},
   "outputs": [
    {
     "data": {
      "text/plain": [
       "['one', 'two', 'three']"
      ]
     },
     "execution_count": 5,
     "metadata": {},
     "output_type": "execute_result"
    }
   ],
   "source": [
    "# get a lal kjeys a s n interabl ewith tgkey)9 \n",
    ",\n",
    "\n",
    "# we  need to rast th ecal in list() to run it into a list , we ';a tall kk about thos laer\n",
    "\n",
    "\n",
    "list(filled_dict.keys()) "
   ]
  },
  {
   "cell_type": "code",
   "execution_count": 6,
   "id": "787501b9",
   "metadata": {},
   "outputs": [
    {
     "data": {
      "text/plain": [
       "[1, 2, 3]"
      ]
     },
     "execution_count": 6,
     "metadata": {},
     "output_type": "execute_result"
    }
   ],
   "source": [
    "# vaet all values a s an interable with ' value sk()9 \" ,  on ca gain we need tto wrap in listi90 to get it out tof the itrable \n",
    "# \n",
    "\n",
    "list(filled_dict.values())"
   ]
  },
  {
   "cell_type": "code",
   "execution_count": 9,
   "id": "c585a369",
   "metadata": {},
   "outputs": [
    {
     "data": {
      "text/plain": [
       "False"
      ]
     },
     "execution_count": 9,
     "metadata": {},
     "output_type": "execute_result"
    }
   ],
   "source": [
    "# chekcing for keys in a dictionary \n",
    "\" one\" in filled_dict \n",
    "1 in filled_dict # returns False"
   ]
  },
  {
   "cell_type": "code",
   "execution_count": 10,
   "id": "fbfba23a",
   "metadata": {},
   "outputs": [
    {
     "ename": "KeyError",
     "evalue": "'four'",
     "output_type": "error",
     "traceback": [
      "\u001b[31m---------------------------------------------------------------------------\u001b[39m",
      "\u001b[31mKeyError\u001b[39m                                  Traceback (most recent call last)",
      "\u001b[36mCell\u001b[39m\u001b[36m \u001b[39m\u001b[32mIn[10]\u001b[39m\u001b[32m, line 2\u001b[39m\n\u001b[32m      1\u001b[39m \u001b[38;5;66;03m# looking upa  a non existing key is a keyhrror\u001b[39;00m\n\u001b[32m----> \u001b[39m\u001b[32m2\u001b[39m \u001b[43mfilled_dict\u001b[49m\u001b[43m[\u001b[49m\u001b[33;43m\"\u001b[39;49m\u001b[33;43mfour\u001b[39;49m\u001b[33;43m\"\u001b[39;49m\u001b[43m]\u001b[49m \u001b[38;5;66;03m# raises a keyerror\u001b[39;00m\n",
      "\u001b[31mKeyError\u001b[39m: 'four'"
     ]
    }
   ],
   "source": [
    "# looking upa  a non existing key is a keyhrror\n",
    "filled_dict[\"four\"] # raises a keyerror"
   ]
  },
  {
   "cell_type": "code",
   "execution_count": 12,
   "id": "b03ff272",
   "metadata": {},
   "outputs": [],
   "source": [
    "# use get() to avoid keyerror\n",
    "filled_dict.get(\"four\") # returns None\n",
    "# gives the default value if the key is not found\n"
   ]
  },
  {
   "cell_type": "code",
   "execution_count": 13,
   "id": "ea4c36bc",
   "metadata": {},
   "outputs": [
    {
     "data": {
      "text/plain": [
       "4"
      ]
     },
     "execution_count": 13,
     "metadata": {},
     "output_type": "execute_result"
    }
   ],
   "source": [
    "# set default inserts int a dicnmtioanry onlyh if the give  key itn't poreresent \n",
    "\n",
    "filled_dict.setdefault(\"four\", 4) "
   ]
  },
  {
   "cell_type": "code",
   "execution_count": 14,
   "id": "a634770f",
   "metadata": {},
   "outputs": [],
   "source": [
    "# addding to dictionary \n",
    " \n",
    "filled_dict.update({\"four\": 4})"
   ]
  },
  {
   "cell_type": "code",
   "execution_count": 15,
   "id": "1859bd10",
   "metadata": {},
   "outputs": [
    {
     "data": {
      "text/plain": [
       "4"
      ]
     },
     "execution_count": 15,
     "metadata": {},
     "output_type": "execute_result"
    }
   ],
   "source": [
    "filled_dict[\"four\"]"
   ]
  },
  {
   "cell_type": "code",
   "execution_count": 17,
   "id": "2adbc012",
   "metadata": {},
   "outputs": [],
   "source": [
    "# remve keys from a dictionary\n",
    "\n",
    "del filled_dict[\"one\"]"
   ]
  },
  {
   "cell_type": "code",
   "execution_count": null,
   "id": "d9efb1f2",
   "metadata": {},
   "outputs": [],
   "source": [
    "# additioanrl packing optiosn \n",
    " { \"a\" : 1 , **}"
   ]
  },
  {
   "cell_type": "code",
   "execution_count": null,
   "id": "289b1c7c",
   "metadata": {},
   "outputs": [],
   "source": []
  },
  {
   "cell_type": "code",
   "execution_count": null,
   "id": "abf49a77",
   "metadata": {},
   "outputs": [],
   "source": []
  }
 ],
 "metadata": {
  "kernelspec": {
   "display_name": ".venv",
   "language": "python",
   "name": "python3"
  },
  "language_info": {
   "codemirror_mode": {
    "name": "ipython",
    "version": 3
   },
   "file_extension": ".py",
   "mimetype": "text/x-python",
   "name": "python",
   "nbconvert_exporter": "python",
   "pygments_lexer": "ipython3",
   "version": "3.12.1"
  }
 },
 "nbformat": 4,
 "nbformat_minor": 5
}
