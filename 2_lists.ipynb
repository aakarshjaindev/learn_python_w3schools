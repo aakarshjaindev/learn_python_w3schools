{
 "cells": [
  {
   "cell_type": "markdown",
   "id": "114ff504-2c20-4d4a-a166-e870bfdd52f1",
   "metadata": {},
   "source": [
    "# Python access list items"
   ]
  },
  {
   "cell_type": "markdown",
   "id": "1078aa49-1bfd-47de-a23a-f128bd83821a",
   "metadata": {},
   "source": [
    "list items are indexed and you can access them by referring to the index number : \n"
   ]
  },
  {
   "cell_type": "code",
   "execution_count": 8,
   "id": "8577a3a5-f3e1-4fff-855b-6454aa7324cb",
   "metadata": {},
   "outputs": [
    {
     "name": "stdout",
     "output_type": "stream",
     "text": [
      "b \n"
     ]
    }
   ],
   "source": [
    "list1 = [ 'a', 'b ' , 'c'  'd']\n",
    "print(list1[1])\n"
   ]
  },
  {
   "cell_type": "code",
   "execution_count": 9,
   "id": "fca69841-5447-4d89-94b4-ee44fe1456db",
   "metadata": {},
   "outputs": [
    {
     "name": "stdout",
     "output_type": "stream",
     "text": [
      "cd\n"
     ]
    }
   ],
   "source": [
    "# Negative indexing \n",
    "'''\n",
    "negative indexingm means tart form the end\n",
    "'''\n",
    "print(list1[-1])"
   ]
  },
  {
   "cell_type": "code",
   "execution_count": 13,
   "id": "2482dcdc-6e8e-4b5c-8003-ca0d910b62a2",
   "metadata": {},
   "outputs": [
    {
     "name": "stdout",
     "output_type": "stream",
     "text": [
      "['b ']\n"
     ]
    }
   ],
   "source": [
    "# range of indexes \n",
    "print(list1[1:2])"
   ]
  },
  {
   "cell_type": "markdown",
   "id": "a124802a-386d-4100-aaf1-0405d5ebb2c0",
   "metadata": {},
   "source": [
    "# changing the specific item \n"
   ]
  },
  {
   "cell_type": "code",
   "execution_count": 16,
   "id": "3a77b7a4-0370-4b57-907b-0c523b284797",
   "metadata": {},
   "outputs": [],
   "source": [
    "list1[1] = \"blackcurrant\"\n"
   ]
  },
  {
   "cell_type": "code",
   "execution_count": 18,
   "id": "9eeb0e5c-8457-4e54-8b24-04fb85a6ad1f",
   "metadata": {},
   "outputs": [
    {
     "name": "stdout",
     "output_type": "stream",
     "text": [
      "['a', 'b ', 'cd']\n"
     ]
    }
   ],
   "source": [
    "print(list1)"
   ]
  },
  {
   "cell_type": "code",
   "execution_count": 19,
   "id": "e7515be0-e3cc-4326-ab12-3caf149f6e91",
   "metadata": {},
   "outputs": [
    {
     "name": "stdout",
     "output_type": "stream",
     "text": [
      "[' apple', ' banana ', ' watermelon  ']\n"
     ]
    }
   ],
   "source": [
    "# inserting more than the replaced ones\n",
    "list1 = [ ' apple'  , ' banana ', ' watermelon  ' ] \n",
    "print(list1)"
   ]
  },
  {
   "cell_type": "code",
   "execution_count": 20,
   "id": "7668ee55-9c97-410f-8c89-24f9db3fd13f",
   "metadata": {},
   "outputs": [
    {
     "name": "stdout",
     "output_type": "stream",
     "text": [
      "[' apple', 'watemelon']\n"
     ]
    }
   ],
   "source": [
    "# change 2nd and 3rd value \n",
    "\n",
    "list1[1:3] = ['watemelon'] \n",
    "print(list1) "
   ]
  },
  {
   "cell_type": "code",
   "execution_count": 22,
   "id": "b879f997-fbfc-40fa-b055-69f4ff02208f",
   "metadata": {},
   "outputs": [],
   "source": [
    "# insert items \n",
    "\n",
    "list1.insert(2, \" watermelon\")"
   ]
  },
  {
   "cell_type": "code",
   "execution_count": 23,
   "id": "5d06c254-dd6b-4bbb-832a-b42fb18a8f0b",
   "metadata": {},
   "outputs": [
    {
     "name": "stdout",
     "output_type": "stream",
     "text": [
      "[' apple', 'watemelon', ' watermelon']\n"
     ]
    }
   ],
   "source": [
    "print(list1)"
   ]
  },
  {
   "cell_type": "code",
   "execution_count": 24,
   "id": "1d9eb5ca-ce1a-414c-8677-03594e6adac4",
   "metadata": {},
   "outputs": [],
   "source": [
    "# append items - adding at the end \n",
    "list1.append(\" orage\" )"
   ]
  },
  {
   "cell_type": "code",
   "execution_count": 25,
   "id": "81ed6260-0d76-4f7e-9ed7-1dc89c9d370a",
   "metadata": {},
   "outputs": [
    {
     "name": "stdout",
     "output_type": "stream",
     "text": [
      "[' apple', 'watemelon', ' watermelon', ' orage']\n"
     ]
    }
   ],
   "source": [
    "print(list1)"
   ]
  },
  {
   "cell_type": "code",
   "execution_count": 27,
   "id": "6e37d38e-e20b-4641-b4f7-36de52aa001f",
   "metadata": {},
   "outputs": [
    {
     "name": "stdout",
     "output_type": "stream",
     "text": [
      "[' apple', ' oragne', 'watemelon', ' watermelon', ' orage']\n"
     ]
    }
   ],
   "source": [
    "# insert() - inserting at specific place\n",
    "\n",
    "\n",
    "list1.insert(1, \" oragne\")\n",
    "print(list1)"
   ]
  },
  {
   "cell_type": "code",
   "execution_count": 28,
   "id": "e7837fda-13e5-4fce-9142-df8a294f6e6e",
   "metadata": {},
   "outputs": [
    {
     "name": "stdout",
     "output_type": "stream",
     "text": [
      "[' apple', ' oragne', 'watemelon', ' watermelon', ' orage']\n"
     ]
    }
   ],
   "source": [
    "# extend() - elements from another list to our list (lists, tuple,etc.)\n",
    "\n",
    "thislist.extend(list1)\n",
    "print(list1)"
   ]
  },
  {
   "cell_type": "code",
   "execution_count": 42,
   "id": "dcbd936f-c06d-4db8-925f-236eb2e5a2b1",
   "metadata": {},
   "outputs": [
    {
     "name": "stdout",
     "output_type": "stream",
     "text": [
      "['blackcurrant', 'cherry', 'orange', 'kiwi', 'melon', 'mango', ' apple', ' oragne', 'watemelon', ' watermelon', ' orage']\n"
     ]
    }
   ],
   "source": [
    "# remove() - remove specific items \n",
    "print(thislist)\n",
    "thislist.remove('cherry')\n"
   ]
  },
  {
   "cell_type": "code",
   "execution_count": 44,
   "id": "db759da9-326f-46dc-872d-974e23f8e032",
   "metadata": {},
   "outputs": [
    {
     "data": {
      "text/plain": [
       "'orange'"
      ]
     },
     "execution_count": 44,
     "metadata": {},
     "output_type": "execute_result"
    }
   ],
   "source": [
    "thislist.pop(1)"
   ]
  },
  {
   "cell_type": "code",
   "execution_count": 45,
   "id": "af7ecd6a-9770-45dd-97b4-a1422502d69a",
   "metadata": {},
   "outputs": [],
   "source": [
    "del thislist[0]"
   ]
  },
  {
   "cell_type": "code",
   "execution_count": 46,
   "id": "984c03dd-699d-41f8-96cf-dbd4b05c25a0",
   "metadata": {},
   "outputs": [
    {
     "name": "stdout",
     "output_type": "stream",
     "text": [
      "['kiwi', 'melon', 'mango', ' apple', ' oragne', 'watemelon', ' watermelon', ' orage']\n"
     ]
    }
   ],
   "source": [
    "print(thislist)"
   ]
  },
  {
   "cell_type": "code",
   "execution_count": 47,
   "id": "604632d4-96c9-47b4-ade8-3d274ba0bfec",
   "metadata": {},
   "outputs": [
    {
     "name": "stdout",
     "output_type": "stream",
     "text": [
      "[]\n"
     ]
    }
   ],
   "source": [
    "# clear() = empties the list \n",
    "thislist.clear()\n",
    "print(thislist)"
   ]
  },
  {
   "cell_type": "code",
   "execution_count": 53,
   "id": "87c2a6a9-db1f-410e-a0de-dc27e94a6c0b",
   "metadata": {},
   "outputs": [
    {
     "name": "stdout",
     "output_type": "stream",
     "text": [
      "[' apple', ' oragne', 'watemelon', ' watermelon', ' orage']\n",
      " apple\n",
      " oragne\n",
      "watemelon\n",
      " watermelon\n",
      " orage\n"
     ]
    }
   ],
   "source": [
    "# python - loop lists \n",
    "# loop through a list \n",
    "# using for loop \n",
    "print(list1)\n",
    "for x in list1:\n",
    "    print(x)"
   ]
  },
  {
   "cell_type": "code",
   "execution_count": 58,
   "id": "f0e51399-5b19-4c0f-a9d9-55f85801b8d4",
   "metadata": {},
   "outputs": [
    {
     "name": "stdout",
     "output_type": "stream",
     "text": [
      " watermelon\n",
      " watermelon\n",
      " watermelon\n",
      " watermelon\n",
      " watermelon\n"
     ]
    }
   ],
   "source": [
    "# loop through the index numbers\n",
    "# you can also loop through th list items by referring to their ndex number \n",
    "# use the range ) and len9) funcation to creat a suitable iteranle \n",
    "for x in range(len(list1)):\n",
    "    print(list1[i])\n"
   ]
  },
  {
   "cell_type": "code",
   "execution_count": 59,
   "id": "0b163395-1135-4246-ac05-3d723bfd0784",
   "metadata": {},
   "outputs": [
    {
     "name": "stdout",
     "output_type": "stream",
     "text": [
      " watermelon\n",
      " orage\n"
     ]
    }
   ],
   "source": [
    "# using a while loop \n",
    "# using len() get length , start at 0 and loop using indexes,\n",
    "\n",
    "while i < len(list1):\n",
    "    print(list1[i])\n",
    "    i = i + 1 "
   ]
  },
  {
   "cell_type": "code",
   "execution_count": 63,
   "id": "c7b78678-220f-4810-ba2b-158457ff21d4",
   "metadata": {},
   "outputs": [
    {
     "ename": "NameError",
     "evalue": "name 'fruits' is not defined",
     "output_type": "error",
     "traceback": [
      "\u001b[31m-------------------------------------------------------------------\u001b[39m",
      "\u001b[31mNameError\u001b[39m                         Traceback (most recent call last)",
      "\u001b[36mCell\u001b[39m\u001b[36m \u001b[39m\u001b[32mIn[63]\u001b[39m\u001b[32m, line 3\u001b[39m\n\u001b[32m      1\u001b[39m \u001b[38;5;66;03m# list comprehersion = shortcut to crate new list based on existing\u001b[39;00m\n\u001b[32m      2\u001b[39m newlist =[] \n\u001b[32m----> \u001b[39m\u001b[32m3\u001b[39m \u001b[38;5;28;01mfor\u001b[39;00m x \u001b[38;5;129;01min\u001b[39;00m \u001b[43mfruits\u001b[49m: \n\u001b[32m      4\u001b[39m     \u001b[38;5;28;01mif\u001b[39;00m \u001b[33m\"\u001b[39m\u001b[33ma\u001b[39m\u001b[33m\"\u001b[39m \u001b[38;5;129;01min\u001b[39;00m x:\n\u001b[32m      5\u001b[39m         newlist.append(x)\n",
      "\u001b[31mNameError\u001b[39m: name 'fruits' is not defined"
     ]
    }
   ],
   "source": [
    "# list comprehersion = shortcut to crate new list based on existing\n",
    "\n",
    "newlist =[x for x in fruits if 'a ' in x] \n",
    "\n",
    "for x in fruits: \n",
    "    if \"a\" in x:\n",
    "        newlist.append(x)        \n",
    "print(newlist)"
   ]
  },
  {
   "cell_type": "markdown",
   "id": "f7cf6cb7-5ac8-4f3d-84ad-d11efc8a5e65",
   "metadata": {},
   "source": [
    "newlist = [ expression for item in iterable if condition == True]"
   ]
  },
  {
   "cell_type": "code",
   "execution_count": 64,
   "id": "4f18e464-fbcb-4bcd-a536-1d32e43a8e29",
   "metadata": {},
   "outputs": [
    {
     "ename": "SyntaxError",
     "evalue": "invalid syntax (2523579520.py, line 1)",
     "output_type": "error",
     "traceback": [
      "  \u001b[36mCell\u001b[39m\u001b[36m \u001b[39m\u001b[32mIn[64]\u001b[39m\u001b[32m, line 1\u001b[39m\n\u001b[31m    \u001b[39m\u001b[31mThe reutrn value is a new list, leaving the old list unchanged.\u001b[39m\n        ^\n\u001b[31mSyntaxError\u001b[39m\u001b[31m:\u001b[39m invalid syntax\n"
     ]
    }
   ],
   "source": [
    "The reutrn value is a new list, leaving the old list unchanged."
   ]
  },
  {
   "cell_type": "code",
   "execution_count": null,
   "id": "11d72a4c-9152-4cc2-bca9-fe6a876f8571",
   "metadata": {},
   "outputs": [],
   "source": [
    "# conditnion \n",
    "# the condition is like a filter that only accepts the items that evaluate to True. "
   ]
  }
 ],
 "metadata": {
  "kernelspec": {
   "display_name": "Python 3 (ipykernel)",
   "language": "python",
   "name": "python3"
  },
  "language_info": {
   "codemirror_mode": {
    "name": "ipython",
    "version": 3
   },
   "file_extension": ".py",
   "mimetype": "text/x-python",
   "name": "python",
   "nbconvert_exporter": "python",
   "pygments_lexer": "ipython3",
   "version": "3.13.3"
  }
 },
 "nbformat": 4,
 "nbformat_minor": 5
}
