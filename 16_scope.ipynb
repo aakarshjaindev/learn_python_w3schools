{
 "cells": [
  {
   "cell_type": "code",
   "execution_count": null,
   "id": "fd89d9fd",
   "metadata": {},
   "outputs": [],
   "source": []
  },
  {
   "cell_type": "code",
   "execution_count": 1,
   "id": "7412752a",
   "metadata": {},
   "outputs": [],
   "source": [
    "# pyuthon scope\n",
    "# a variable only availe bale from  the region it is creted \n",
    "\n",
    "\n",
    "# local scopoe \n",
    "#  a variable creted inside a function  belogs to the local scope of the function , and can only be used in that fucntion \n",
    " \n",
    "def myfunc(): \n",
    "    x = 203\n",
    "    print(x)\n",
    "\n"
   ]
  },
  {
   "cell_type": "code",
   "execution_count": 2,
   "id": "45571e2f",
   "metadata": {},
   "outputs": [
    {
     "name": "stdout",
     "output_type": "stream",
     "text": [
      "203\n"
     ]
    }
   ],
   "source": [
    "myfunc()"
   ]
  },
  {
   "cell_type": "code",
   "execution_count": 5,
   "id": "03476794",
   "metadata": {},
   "outputs": [
    {
     "name": "stdout",
     "output_type": "stream",
     "text": [
      "3003\n"
     ]
    }
   ],
   "source": [
    "# functions inside fucn tions s\n",
    "def myfunc(): \n",
    "    x =3003 \n",
    "    def myinnerfun():\n",
    "        print(x)\n",
    "    myinnerfun()\n",
    "\n",
    "myfunc()"
   ]
  },
  {
   "cell_type": "code",
   "execution_count": 6,
   "id": "bccfd224",
   "metadata": {},
   "outputs": [
    {
     "name": "stdout",
     "output_type": "stream",
     "text": [
      "3003\n",
      "300\n"
     ]
    }
   ],
   "source": [
    "# gloabla scope\n",
    "# varibale created in teh main body \n",
    "# available anywhere \n",
    " \n",
    "\n",
    "x = 300\n",
    "def myfucn():\n",
    "    print(x)\n",
    "myfunc()\n",
    "\n",
    "print(x)"
   ]
  },
  {
   "cell_type": "code",
   "execution_count": 7,
   "id": "15df5402",
   "metadata": {},
   "outputs": [],
   "source": [
    "# naming vairables \n"
   ]
  },
  {
   "cell_type": "code",
   "execution_count": 9,
   "id": "03805d42",
   "metadata": {},
   "outputs": [
    {
     "name": "stdout",
     "output_type": "stream",
     "text": [
      "234\n",
      "23\n"
     ]
    }
   ],
   "source": [
    "a = 23\n",
    "def myfunct():\n",
    "    a = 234\n",
    "    print(a)\n",
    "myfunct()\n",
    "\n",
    "\n",
    "print(a)"
   ]
  },
  {
   "cell_type": "code",
   "execution_count": 10,
   "id": "819eb294",
   "metadata": {},
   "outputs": [
    {
     "data": {
      "text/plain": [
       "3"
      ]
     },
     "execution_count": 10,
     "metadata": {},
     "output_type": "execute_result"
    }
   ],
   "source": [
    "3"
   ]
  },
  {
   "cell_type": "code",
   "execution_count": null,
   "id": "a1a3a039",
   "metadata": {},
   "outputs": [],
   "source": []
  },
  {
   "cell_type": "code",
   "execution_count": 11,
   "id": "e9469092",
   "metadata": {},
   "outputs": [],
   "source": [
    "def myfunc():\n",
    "    global x "
   ]
  },
  {
   "cell_type": "code",
   "execution_count": 12,
   "id": "b91ac9b7",
   "metadata": {},
   "outputs": [
    {
     "name": "stdout",
     "output_type": "stream",
     "text": [
      "234\n"
     ]
    }
   ],
   "source": [
    "x = 234\n",
    "myfunc()\n",
    "\n",
    "print(x)"
   ]
  },
  {
   "cell_type": "code",
   "execution_count": null,
   "id": "30fbe00f",
   "metadata": {},
   "outputs": [],
   "source": [
    "# nonlocal keyword \n",
    "\n",
    "# example \n",
    "    \n"
   ]
  }
 ],
 "metadata": {
  "kernelspec": {
   "display_name": "Python 3",
   "language": "python",
   "name": "python3"
  },
  "language_info": {
   "codemirror_mode": {
    "name": "ipython",
    "version": 3
   },
   "file_extension": ".py",
   "mimetype": "text/x-python",
   "name": "python",
   "nbconvert_exporter": "python",
   "pygments_lexer": "ipython3",
   "version": "3.13.3"
  }
 },
 "nbformat": 4,
 "nbformat_minor": 5
}
