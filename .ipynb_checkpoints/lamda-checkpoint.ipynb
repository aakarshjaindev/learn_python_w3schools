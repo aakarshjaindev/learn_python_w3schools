{
 "cells": [
  {
   "cell_type": "code",
   "execution_count": null,
   "id": "a7ebbb7f",
   "metadata": {},
   "outputs": [],
   "source": [
    "# python lambda\n"
   ]
  },
  {
   "cell_type": "code",
   "execution_count": null,
   "id": "f80ab2d8",
   "metadata": {},
   "outputs": [],
   "source": []
  },
  {
   "cell_type": "code",
   "execution_count": 1,
   "id": "143e6043",
   "metadata": {},
   "outputs": [
    {
     "name": "stdout",
     "output_type": "stream",
     "text": [
      "15\n"
     ]
    }
   ],
   "source": [
    "x = lambda a : a  + 10\n",
    "print(x(5))"
   ]
  },
  {
   "cell_type": "markdown",
   "id": "58255243",
   "metadata": {},
   "source": [
    "#### lambda funcntion is a small anaonymouse function \n",
    "* a lambda function can take any nuymber of arguements , but can only have one experssion\n",
    "#### syntax \n"
   ]
  },
  {
   "cell_type": "code",
   "execution_count": 2,
   "id": "b86b35e9",
   "metadata": {},
   "outputs": [
    {
     "name": "stdout",
     "output_type": "stream",
     "text": [
      "15\n"
     ]
    }
   ],
   "source": [
    "\n",
    "x = lambda a : a + 10 \n",
    "print(x(5))\n"
   ]
  },
  {
   "cell_type": "markdown",
   "id": "62de1fc0",
   "metadata": {},
   "source": [
    "lambda funcitons can take any number of arguements : \n",
    "a lambda function is a small anony mous function . \n",
    "a lambda funciton can take any nuymber of arguemetns, btu can only have one expresiion \n"
   ]
  },
  {
   "cell_type": "code",
   "execution_count": null,
   "id": "e709dd0c",
   "metadata": {},
   "outputs": [],
   "source": [
    "x = lambda a, b : a* b \n",
    "print(x(5,6))"
   ]
  },
  {
   "cell_type": "markdown",
   "id": "52a880b8",
   "metadata": {},
   "source": [
    "summarize arguemnets a, b  and c and return the result:"
   ]
  },
  {
   "cell_type": "code",
   "execution_count": 3,
   "id": "67e7d169",
   "metadata": {},
   "outputs": [
    {
     "name": "stdout",
     "output_type": "stream",
     "text": [
      "13\n"
     ]
    }
   ],
   "source": [
    "x = lambda a, b , c : a + b + c \n",
    "print(x(5,6, 2))"
   ]
  },
  {
   "cell_type": "markdown",
   "id": "5d74b40b",
   "metadata": {},
   "source": [
    "> why use lambda functions ? \n",
    "* powerful used as a anonymous function "
   ]
  },
  {
   "cell_type": "code",
   "execution_count": 5,
   "id": "613a2bad",
   "metadata": {},
   "outputs": [],
   "source": [
    "def myfunc(n): \n",
    "    return lambda a : a * n"
   ]
  },
  {
   "cell_type": "markdown",
   "id": "c44dae64",
   "metadata": {},
   "source": [
    "> using that function getting that double we always wanted "
   ]
  },
  {
   "cell_type": "code",
   "execution_count": null,
   "id": "720a6e81",
   "metadata": {},
   "outputs": [
    {
     "name": "stdout",
     "output_type": "stream",
     "text": [
      "22\n"
     ]
    }
   ],
   "source": [
    "def myfunc(n):\n",
    "    return lambda a :a * n l\n",
    "mydoubler = myfunc(2)\n",
    "\n",
    "print(mydoubler(11))"
   ]
  },
  {
   "cell_type": "code",
   "execution_count": 9,
   "id": "b7a65120",
   "metadata": {},
   "outputs": [
    {
     "name": "stdout",
     "output_type": "stream",
     "text": [
      "33\n"
     ]
    }
   ],
   "source": [
    "def myfunc(n):\n",
    "  return lambda a : a * n\n",
    "\n",
    "mytripler = myfunc(3)\n",
    "\n",
    "print(mytripler(11))\n"
   ]
  },
  {
   "cell_type": "code",
   "execution_count": null,
   "id": "3c157d55",
   "metadata": {},
   "outputs": [],
   "source": [
    "\n",
    "+"
   ]
  },
  {
   "cell_type": "markdown",
   "id": "523cedf2",
   "metadata": {},
   "source": []
  },
  {
   "cell_type": "markdown",
   "id": "1ec08223",
   "metadata": {},
   "source": []
  }
 ],
 "metadata": {
  "kernelspec": {
   "display_name": "Python 3 (ipykernel)",
   "language": "python",
   "name": "python3"
  },
  "language_info": {
   "codemirror_mode": {
    "name": "ipython",
    "version": 3
   },
   "file_extension": ".py",
   "mimetype": "text/x-python",
   "name": "python",
   "nbconvert_exporter": "python",
   "pygments_lexer": "ipython3",
   "version": "3.13.3"
  }
 },
 "nbformat": 4,
 "nbformat_minor": 5
}
