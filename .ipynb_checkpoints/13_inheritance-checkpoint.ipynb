{
 "cells": [
  {
   "cell_type": "markdown",
   "id": "4041808a-894f-44ac-9277-30f2693dd045",
   "metadata": {},
   "source": [
    "# ptyhon inheritance "
   ]
  },
  {
   "cell_type": "markdown",
   "id": "f4b46636-d0da-42f0-aead-395096539c3d",
   "metadata": {},
   "source": [
    "> creating class wtiht methods adn properties from another class\n",
    "\n",
    "> parent and child class\n"
   ]
  },
  {
   "cell_type": "code",
   "execution_count": 2,
   "id": "c54d2764-bb17-4159-a7bc-1b262cf7f08d",
   "metadata": {},
   "outputs": [
    {
     "name": "stdout",
     "output_type": "stream",
     "text": [
      "John Doe\n"
     ]
    }
   ],
   "source": [
    "class Person:\n",
    "  def __init__(self, fname, lname):\n",
    "    self.firstname = fname\n",
    "    self.lastname = lname\n",
    "\n",
    "  def printname(self):\n",
    "    print(self.firstname, self.lastname)\n",
    "\n",
    "#Use the Person class to create an object, and then execute the printname method:\n",
    "\n",
    "x = Person(\"John\", \"Doe\")\n",
    "x.printname()"
   ]
  },
  {
   "cell_type": "code",
   "execution_count": 4,
   "id": "8e015e23-5740-41b2-93ad-e46e2abff70c",
   "metadata": {},
   "outputs": [],
   "source": [
    "class Student(Person):\n",
    "  pass\n",
    "# we learnt creating a new child class with just pytting parent class as paramenter and adding pass to not add any other propertis or methods to the class "
   ]
  },
  {
   "cell_type": "markdown",
   "id": "85453ffb-9f88-4add-bfbb-94a4aa8ed889",
   "metadata": {},
   "source": [
    "# adding the init() function "
   ]
  },
  {
   "cell_type": "code",
   "execution_count": 7,
   "id": "5979fe43-89ce-4bb3-928b-9eca5f841f35",
   "metadata": {},
   "outputs": [],
   "source": [
    "class Student(Person):\n",
    "  def __init__(self, fname, lname):\n",
    "    Person.__init__(self, fname, lname)"
   ]
  },
  {
   "cell_type": "markdown",
   "id": "2fdbc4dd-0490-4f90-8fcd-217542969ee4",
   "metadata": {},
   "source": [
    "\n",
    "# super() function\n",
    "> super ingherits everttyig\n",
    ">\n",
    "> "
   ]
  },
  {
   "cell_type": "code",
   "execution_count": 9,
   "id": "a29d19bc-b3e7-401f-ba58-f8e2fba1bf2b",
   "metadata": {},
   "outputs": [],
   "source": [
    "class Sudnet(Person): \n",
    "    def __init__(self, fname, lname) : \n",
    "        super().__init__(fname, lname)\n"
   ]
  },
  {
   "cell_type": "code",
   "execution_count": 12,
   "id": "1508d3d0-a3bf-4220-abf3-8c36c2066ff4",
   "metadata": {},
   "outputs": [],
   "source": [
    "class Student(Person):\n",
    "    def __init__(self, fname , lname):\n",
    "        super().__init__(fname, lname)\n",
    "        self.graduationyear = 2019\n",
    "# we added new propertry graduationyeer to student calasl        "
   ]
  },
  {
   "cell_type": "code",
   "execution_count": 18,
   "id": "e531d2e9-5a52-4ade-94df-a261a5699d41",
   "metadata": {},
   "outputs": [],
   "source": [
    "class Person(Students):\n",
    "    def __init__(self, name , age, year):\n",
    "        super().__init__(name, age)\n",
    "        self.birthyear = year\n",
    "\n",
    "\n",
    "x = Person('sheela', 23, 2019)\n",
    "\n",
    "# added a year paramter and pas ht ecorrect year when created objects\n"
   ]
  },
  {
   "cell_type": "code",
   "execution_count": 17,
   "id": "ee0bae08-d268-467a-ba07-2f529df0d126",
   "metadata": {},
   "outputs": [
    {
     "ename": "AttributeError",
     "evalue": "'Person' object has no attribute 'age'",
     "output_type": "error",
     "traceback": [
      "\u001b[31m---------------------------------------------------------------------------\u001b[39m",
      "\u001b[31mAttributeError\u001b[39m                            Traceback (most recent call last)",
      "\u001b[36mCell\u001b[39m\u001b[36m \u001b[39m\u001b[32mIn[17]\u001b[39m\u001b[32m, line 1\u001b[39m\n\u001b[32m----> \u001b[39m\u001b[32m1\u001b[39m \u001b[43mx\u001b[49m\u001b[43m.\u001b[49m\u001b[43mage\u001b[49m()\n",
      "\u001b[31mAttributeError\u001b[39m: 'Person' object has no attribute 'age'"
     ]
    }
   ],
   "source": []
  },
  {
   "cell_type": "code",
   "execution_count": null,
   "id": "31dce8d2-3001-4c42-8f8d-0cc44d7d8a21",
   "metadata": {},
   "outputs": [],
   "source": []
  },
  {
   "cell_type": "markdown",
   "id": "5140e9a1-afcd-4aa8-bd30-7e71b59aab3a",
   "metadata": {},
   "source": [
    "# add metods \n"
   ]
  },
  {
   "cell_type": "code",
   "execution_count": 23,
   "id": "27a562b6-81ef-41b6-b40a-a9762305bbe0",
   "metadata": {},
   "outputs": [],
   "source": [
    "class Person(Students):\n",
    "    def __init__(anything , name , age, birthyear):\n",
    "        super().__init__(name, age) \n",
    "        self.birthyear = year \n",
    "    def birthyear(anything):\n",
    "        print(anything.name, \"you were borh on the year\", self.birthyear)"
   ]
  },
  {
   "cell_type": "markdown",
   "id": "559d6aa7-91db-4759-b6e7-de303cd8a46f",
   "metadata": {},
   "source": [
    "> parent class function overwrite the similar named method in child calass"
   ]
  }
 ],
 "metadata": {
  "kernelspec": {
   "display_name": "Python 3 (ipykernel)",
   "language": "python",
   "name": "python3"
  },
  "language_info": {
   "codemirror_mode": {
    "name": "ipython",
    "version": 3
   },
   "file_extension": ".py",
   "mimetype": "text/x-python",
   "name": "python",
   "nbconvert_exporter": "python",
   "pygments_lexer": "ipython3",
   "version": "3.13.3"
  }
 },
 "nbformat": 4,
 "nbformat_minor": 5
}
