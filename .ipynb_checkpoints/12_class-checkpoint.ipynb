{
 "cells": [
  {
   "cell_type": "markdown",
   "id": "7ce08f9f-2c1f-48fa-9a1a-9b6dcea2503b",
   "metadata": {},
   "source": [
    " # python classes and objects\n"
   ]
  },
  {
   "cell_type": "markdown",
   "id": "3fb13271",
   "metadata": {},
   "source": [
    "> oop language - everything is object( properties, methods ) - class is object constructor (_blueprint_)"
   ]
  },
  {
   "cell_type": "markdown",
   "id": "29269fb4-a6b6-4eea-8360-31fd34562b24",
   "metadata": {},
   "source": [
    "**Create a class**"
   ]
  },
  {
   "cell_type": "code",
   "execution_count": 1,
   "id": "94d708f3-d6a0-40a0-b3ea-758ca43bdef8",
   "metadata": {},
   "outputs": [],
   "source": [
    "class Myclass: \n",
    "    x = 5"
   ]
  },
  {
   "cell_type": "code",
   "execution_count": 2,
   "id": "2547ad1e-6551-4f60-b4df-3bd660f9f413",
   "metadata": {},
   "outputs": [
    {
     "name": "stdout",
     "output_type": "stream",
     "text": [
      "<class '__main__.Myclass'>\n"
     ]
    }
   ],
   "source": [
    "print(Myclass)"
   ]
  },
  {
   "cell_type": "code",
   "execution_count": 3,
   "id": "b5be146d-e86f-44b6-a2c4-f4703959f01f",
   "metadata": {},
   "outputs": [
    {
     "data": {
      "text/plain": [
       "5"
      ]
     },
     "execution_count": 3,
     "metadata": {},
     "output_type": "execute_result"
    }
   ],
   "source": [
    "Myclass.x"
   ]
  },
  {
   "cell_type": "code",
   "execution_count": 5,
   "id": "bbb3bc7e-d7ba-4f02-9b90-0d179aa2f953",
   "metadata": {},
   "outputs": [
    {
     "name": "stdout",
     "output_type": "stream",
     "text": [
      "5\n"
     ]
    }
   ],
   "source": [
    "print(Myclass.x)"
   ]
  },
  {
   "cell_type": "markdown",
   "id": "1fe5ffbd-4cd1-431f-b877-f7c69727874b",
   "metadata": {},
   "source": [
    "**Create Object**"
   ]
  },
  {
   "cell_type": "code",
   "execution_count": 7,
   "id": "8e35b49d-f416-4cc5-9c86-523c133266bc",
   "metadata": {},
   "outputs": [
    {
     "name": "stdout",
     "output_type": "stream",
     "text": [
      "5\n"
     ]
    }
   ],
   "source": [
    "# using class - create objects\n",
    "# assiging the class value in object \n",
    "p1 = Myclass()\n",
    "print(p1.x)"
   ]
  },
  {
   "cell_type": "markdown",
   "id": "0bca961b-9ca3-4633-a822-9272f91bdf44",
   "metadata": {},
   "source": [
    "# the __init__ function"
   ]
  },
  {
   "cell_type": "markdown",
   "id": "965e0d5d-686f-4c68-a851-57394b5c1b57",
   "metadata": {},
   "source": [
    "> all classes have __init__() - executed at initiation\n",
    "\n",
    "> useful in assigning  values to to object properties"
   ]
  },
  {
   "cell_type": "code",
   "execution_count": 8,
   "id": "24415d5c-f258-4512-b10d-e8aefcec4638",
   "metadata": {},
   "outputs": [],
   "source": [
    "class Place:\n",
    "    def __init__(self, country, name):\n",
    "        self.country = country\n",
    "        self.name = name\n",
    "\n",
    "p1 = Place(\"india\", \"redfort\")"
   ]
  },
  {
   "cell_type": "code",
   "execution_count": 9,
   "id": "3b63db7b-bd36-4f40-8755-8b2a047d5dee",
   "metadata": {},
   "outputs": [
    {
     "name": "stdout",
     "output_type": "stream",
     "text": [
      "india\n"
     ]
    }
   ],
   "source": [
    "print(p1.country)"
   ]
  },
  {
   "cell_type": "code",
   "execution_count": 10,
   "id": "bf9a16f2-6acf-4120-9402-aefdaa5e6ce8",
   "metadata": {},
   "outputs": [
    {
     "name": "stdout",
     "output_type": "stream",
     "text": [
      "redfort\n"
     ]
    }
   ],
   "source": [
    "print(p1.name)"
   ]
  },
  {
   "cell_type": "code",
   "execution_count": 13,
   "id": "f5e127e3-2bd1-48de-a1ae-1d608972cc4d",
   "metadata": {},
   "outputs": [
    {
     "name": "stdout",
     "output_type": "stream",
     "text": [
      "Sarang\n",
      "2\n"
     ]
    },
    {
     "name": "stdin",
     "output_type": "stream",
     "text": [
      "choose a student id you want to knwo the info about  s1\n"
     ]
    },
    {
     "ename": "AttributeError",
     "evalue": "'str' object has no attribute 'name'",
     "output_type": "error",
     "traceback": [
      "\u001b[31m---------------------------------------------------------------------------\u001b[39m",
      "\u001b[31mAttributeError\u001b[39m                            Traceback (most recent call last)",
      "\u001b[36mCell\u001b[39m\u001b[36m \u001b[39m\u001b[32mIn[13]\u001b[39m\u001b[32m, line 17\u001b[39m\n\u001b[32m     13\u001b[39m \u001b[38;5;28mprint\u001b[39m(s2.rollno)\n\u001b[32m     15\u001b[39m info == \u001b[38;5;28minput\u001b[39m(\u001b[33m\"\u001b[39m\u001b[33mchoose a student id you want to knwo the info about \u001b[39m\u001b[33m\"\u001b[39m )\n\u001b[32m---> \u001b[39m\u001b[32m17\u001b[39m \u001b[38;5;28mprint\u001b[39m(\u001b[43minfo\u001b[49m\u001b[43m.\u001b[49m\u001b[43mname\u001b[49m + info.rollno)\n",
      "\u001b[31mAttributeError\u001b[39m: 'str' object has no attribute 'name'"
     ]
    }
   ],
   "source": [
    "class Students:\n",
    "    def __init__(self, name, rollno):\n",
    "        self.name = name \n",
    "        self.rollno = rollno\n",
    "\n",
    "\n",
    "s1 = Students(\"Sarang\", 1)\n",
    "s2 = Students(\"kahkasha\",2)\n",
    "s3 = Students(\"Aakarsh\", 3)\n",
    "s4 = Students(\"Himanshu\", 4)\n",
    "\n",
    "print(s1.name)\n",
    "print(s2.rollno)\n",
    "\n",
    "info == input(\"choose a student id you want to knwo the info about \" )\n",
    "\n",
    "print(info.name + info.rollno)"
   ]
  },
  {
   "cell_type": "markdown",
   "id": "a4e622ef-eefb-4e1e-82a6-7904774a8fe9",
   "metadata": {},
   "source": [
    "# the __str__() function\n",
    "\n",
    "> __str__() - when class object is a strign .\n",
    "> __str__() - if not set - string representation of object is shown"
   ]
  },
  {
   "cell_type": "code",
   "execution_count": 17,
   "id": "c8283011-b72c-4063-99e9-bd753fe3b8bb",
   "metadata": {},
   "outputs": [
    {
     "name": "stdout",
     "output_type": "stream",
     "text": [
      "bee(insect)\n"
     ]
    }
   ],
   "source": [
    "class animal: \n",
    "    def __init__(self, name, species):\n",
    "        self.name = name\n",
    "        self.species = species\n",
    "\n",
    "    def __str__(self): \n",
    "        return f\"{self.name}({self.species})\"\n",
    "\n",
    "a1 = animal(\"bee\", \"insect\")\n",
    "\n",
    "print(a1)\n",
    "\n"
   ]
  },
  {
   "cell_type": "code",
   "execution_count": 18,
   "id": "98317abe-8ed5-4f22-9fe5-96eb45f5d18e",
   "metadata": {},
   "outputs": [
    {
     "name": "stdout",
     "output_type": "stream",
     "text": [
      "John(36)\n"
     ]
    }
   ],
   "source": [
    "class Person:\n",
    "  def __init__(self, name, age):\n",
    "    self.name = name\n",
    "    self.age = age\n",
    "\n",
    "  def __str__(self):\n",
    "    return f\"{self.name}({self.age})\"\n",
    "\n",
    "p1 = Person(\"John\", 36)\n",
    "\n",
    "print(p1)"
   ]
  },
  {
   "cell_type": "markdown",
   "id": "d30cb8ce-45a8-48b1-8b95-4f6c1ec598eb",
   "metadata": {},
   "source": [
    "# object methods \n",
    "> objects contain methods  - are functions that below to object\n",
    "> "
   ]
  },
  {
   "cell_type": "code",
   "execution_count": 31,
   "id": "dfa83c76-05d2-45fe-92be-680cc5fdba89",
   "metadata": {},
   "outputs": [
    {
     "name": "stdin",
     "output_type": "stream",
     "text": [
      " what is your roll no. ? 2\n"
     ]
    },
    {
     "name": "stdout",
     "output_type": "stream",
     "text": [
      "kahkasha is present\n",
      "None\n"
     ]
    }
   ],
   "source": [
    "# insert a function that marks attentdance, and execute on the p1 object\n",
    "\n",
    "class Student: \n",
    "    def __init__(self, name , rollno): \n",
    "        self.name = name \n",
    "        self.rollno = rollno\n",
    "\n",
    "    def attendance(self): \n",
    "        print(self.name + \" is present\")\n",
    "\n",
    "s1 = Student(\"sarang\", 1)\n",
    "s2 = Student(\"kahkasha\", 2)\n",
    "\n",
    "\n",
    "ask = input(\" what is your roll no. ?\")\n",
    "if ask == \"1\":\n",
    "    print(s1.attendance())\n",
    "else:\n",
    "    print(s2.attendance())\n"
   ]
  },
  {
   "cell_type": "markdown",
   "id": "9787960e-1e3f-4d6c-91c1-bdc536820b81",
   "metadata": {},
   "source": [
    "\n",
    "# the self parameter\n",
    "> reference to the current instance of class\n",
    "\n",
    "> can be named anything\n",
    "\n",
    "> has the be the first parameter of any function in class "
   ]
  },
  {
   "cell_type": "code",
   "execution_count": 37,
   "id": "e5adb30d-3943-4b8f-a805-da7eb4484a7b",
   "metadata": {},
   "outputs": [
    {
     "name": "stdout",
     "output_type": "stream",
     "text": [
      "sarang is present\n"
     ]
    }
   ],
   "source": [
    "class Students: \n",
    "    def __init__(mysillyobject, name, rollno):\n",
    "        mysillyobject.name = name \n",
    "        mysillyobject.rollno = rollno\n",
    "\n",
    "    def attendance(anything):\n",
    "        print(anything.name + \" is present\")\n",
    "\n",
    "s1 = Students(\"sarang\", 1)\n",
    "s1.attendance()\n",
    "# we learnt - we can use whatever we like in initiation of the object"
   ]
  },
  {
   "cell_type": "markdown",
   "id": "538f6902-eec9-4406-8281-2a2363cdd645",
   "metadata": {},
   "source": [
    " **modify** object properties"
   ]
  },
  {
   "cell_type": "code",
   "execution_count": 38,
   "id": "7b5fe9be-c80d-4e41-a1f0-3bfcbd81d55a",
   "metadata": {},
   "outputs": [],
   "source": [
    "s1.rolno = 2"
   ]
  },
  {
   "cell_type": "markdown",
   "id": "b4c88111-264c-4755-9e7a-3ab5789fe282",
   "metadata": {},
   "source": [
    " **delete** object  properties"
   ]
  },
  {
   "cell_type": "code",
   "execution_count": 39,
   "id": "cdef27ee-2816-490a-b24a-f4e6e18b7eb2",
   "metadata": {},
   "outputs": [],
   "source": [
    "del s2.name"
   ]
  },
  {
   "cell_type": "markdown",
   "id": "92886bd6-6773-4c3e-a7d3-88ede2a63ec6",
   "metadata": {},
   "source": [
    "**Delete objects**"
   ]
  },
  {
   "cell_type": "code",
   "execution_count": 40,
   "id": "0f5f1d71-d65a-4d95-ab49-c9afb3a5e4fa",
   "metadata": {},
   "outputs": [],
   "source": [
    "del s2"
   ]
  },
  {
   "cell_type": "markdown",
   "id": "35e1be5e-7641-4714-941f-e72ef80da184",
   "metadata": {},
   "source": [
    "**pass statement**"
   ]
  },
  {
   "cell_type": "code",
   "execution_count": 41,
   "id": "312d2685-c1ed-412a-a594-81a02f5cad49",
   "metadata": {},
   "outputs": [],
   "source": [
    "# creating empty class\n",
    "class Student:\n",
    "    pass"
   ]
  },
  {
   "cell_type": "code",
   "execution_count": null,
   "id": "d1e87ad3-487d-47d0-9fde-a649ae15a1f4",
   "metadata": {},
   "outputs": [],
   "source": []
  }
 ],
 "metadata": {
  "kernelspec": {
   "display_name": "Python 3 (ipykernel)",
   "language": "python",
   "name": "python3"
  },
  "language_info": {
   "codemirror_mode": {
    "name": "ipython",
    "version": 3
   },
   "file_extension": ".py",
   "mimetype": "text/x-python",
   "name": "python",
   "nbconvert_exporter": "python",
   "pygments_lexer": "ipython3",
   "version": "3.13.3"
  }
 },
 "nbformat": 4,
 "nbformat_minor": 5
}
